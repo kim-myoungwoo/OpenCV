{
 "cells": [
  {
   "cell_type": "code",
   "execution_count": 1,
   "id": "ba9f45b2",
   "metadata": {},
   "outputs": [],
   "source": [
    "import numpy as np\n",
    "import matplotlib.pyplot as plt\n",
    "import cv2\n",
    "import sys"
   ]
  },
  {
   "cell_type": "code",
   "execution_count": 3,
   "id": "b0f8826e",
   "metadata": {},
   "outputs": [],
   "source": [
    "cap = cv2.VideoCapture(0)\n",
    "\n",
    "if not cap.isOpened():\n",
    "    print('video capture failed')\n",
    "    sys.exit()\n",
    "    \n",
    "w = int(cap.get(cv2.CAP_PROP_FRAME_WIDTH))\n",
    "h = int(cap.get(cv2.CAP_PROP_FRAME_HEIGHT))\n",
    "fps = int(cap.get(cv2.CAP_PROP_FPS))\n",
    "fourcc = cv2.VideoWriter_fourcc(*'DIVX')\n",
    "\n",
    "out = cv2.VideoWriter('review_save.avi', fourcc,fps,(w,h))\n",
    "\n",
    "while True:\n",
    "    \n",
    "    ret, frame = cap.read()\n",
    "    \n",
    "    if not ret:\n",
    "        print('frame read failed')\n",
    "        break\n",
    "        \n",
    "    out.write(frame)\n",
    "    cv2.imshow('frame',frame)\n",
    "    \n",
    "    if cv2.waitKey(20)==27:\n",
    "        break\n",
    "        \n",
    "cap.release()\n",
    "out.release()\n",
    "cv2.destroyAllWindows()"
   ]
  },
  {
   "cell_type": "code",
   "execution_count": 22,
   "id": "974b9c3b",
   "metadata": {},
   "outputs": [],
   "source": [
    "## 라인\n",
    "\n",
    "img = np.full((600,1200,3), 255 , np.uint8)\n",
    "\n",
    "cv2.line(img, (50,50), (300,100), (0,0,255), 5, cv2.LINE_AA)\n",
    "cv2.arrowedLine(img,(300,100), (300,200), (255,0,0), 5, cv2.LINE_AA)\n",
    "cv2.rectangle(img, (400,100),(600,300),(0,255,0), 10)\n",
    "cv2.rectangle(img, (420,120,160,160),(255,0,0), -1)\n",
    "cv2.circle(img, (400,300), 100, (120,50,240),-1)\n",
    "cv2.ellipse(img, (600,300), (50,200), -10, 0, 269, (150,30,100),10, cv2.LINE_AA)\n",
    "cv2.putText(img, 'HELLO_PERSON: 33%~', (450,500), cv2.FONT_HERSHEY_SIMPLEX, 2, (10,200,80),3)\n",
    "\n",
    "pts = np.array([[250,200], [400,200],[500,400],[200,400]])\n",
    "cv2.polylines(img, [pts], True, (200,20,10), 5, cv2.LINE_AA)\n",
    "\n",
    "cv2.imshow('img',img)\n",
    "cv2.waitKey()\n",
    "cv2.destroyAllWindows()"
   ]
  },
  {
   "cell_type": "code",
   "execution_count": 33,
   "id": "9c3b67a7",
   "metadata": {},
   "outputs": [
    {
     "name": "stdout",
     "output_type": "stream",
     "text": [
      "saved image\n"
     ]
    }
   ],
   "source": [
    "img = cv2.imread('./Ch_1_fig/fig/puppy.bmp', 0)\n",
    "img1=img.copy()\n",
    "cv2.imshow('img',img)\n",
    "while True:\n",
    "    key = cv2.waitKey()\n",
    "    if key == 27:\n",
    "        break\n",
    "    elif key == ord('e'):\n",
    "        img = cv2.Canny(img,50,100)\n",
    "        cv2.imshow('img',img)\n",
    "    elif key == ord('q'):\n",
    "        img = 255 -img\n",
    "        cv2.imshow('img',img)\n",
    "    elif key == ord('s'):\n",
    "        print('saved image')\n",
    "        cv2.imwrite('./Ch_1_fig/fig/my_images/PUPPYY.png',frame)\n",
    "    elif key == ord('r'):\n",
    "        img=img1.copy()\n",
    "        cv2.imshow('img',img)\n",
    "\n",
    "cv2.destroyAllWindows()"
   ]
  },
  {
   "cell_type": "code",
   "execution_count": 12,
   "id": "0c6d3fa4",
   "metadata": {},
   "outputs": [],
   "source": [
    "cap = cv2.VideoCapture(0)\n",
    "\n",
    "if not cap.isOpened():\n",
    "    print('video capture failed')\n",
    "    sys.exit()\n",
    "\n",
    "f_flags = False\n",
    "e_flags = False\n",
    "\n",
    "while True:\n",
    "    \n",
    "    ret, frame = cap.read()\n",
    "    \n",
    "    if not ret:\n",
    "        print('frame read failed')\n",
    "        break\n",
    "        \n",
    "    key = cv2.waitKey(20)\n",
    "    \n",
    "    if f_flags:\n",
    "        frame = cv2.flip(frame,1)\n",
    "        \n",
    "    if e_flags:\n",
    "        frame = cv2.Canny(frame,50,100)\n",
    "        \n",
    "    cv2.imshow('frame',frame)\n",
    "    \n",
    "    if key == 27:\n",
    "        break\n",
    "    \n",
    "    elif key == ord('f'):\n",
    "        f_flags = not f_flags\n",
    "        \n",
    "    elif key == ord('e'):\n",
    "        e_flags = not e_flags\n",
    "        \n",
    "cap.release()\n",
    "cv2.destroyAllWindows()"
   ]
  },
  {
   "cell_type": "code",
   "execution_count": 16,
   "id": "b45de4a0",
   "metadata": {},
   "outputs": [
    {
     "name": "stdout",
     "output_type": "stream",
     "text": [
      "saved image\n"
     ]
    }
   ],
   "source": [
    "def call_mouse(event,x,y,flags,param):\n",
    "    global oldx, oldy\n",
    "    \n",
    "    if event == cv2.EVENT_LBUTTONDOWN:\n",
    "        oldx, oldy = x,y\n",
    "        \n",
    "#     elif event == cv2.EVENT_LBUTTONUP:\n",
    "#         print('left_buttonup : \\n', x,y)\n",
    "        \n",
    "    elif event == cv2.EVENT_MOUSEMOVE:\n",
    "        if flags == cv2.EVENT_FLAG_LBUTTON:\n",
    "            cv2.line(img,(oldx,oldy), (x,y), (250,1,10),5,cv2.LINE_AA)\n",
    "            \n",
    "            cv2.imshow('image',img)\n",
    "            oldx, oldy = x,y\n",
    "\n",
    "\n",
    "img = np.ones((600,600,3), np.uint8)*255\n",
    "\n",
    "cv2.namedWindow('image')\n",
    "cv2.setMouseCallback('image',call_mouse)\n",
    "\n",
    "cv2.imshow('image',img)\n",
    "img1 = img.copy()\n",
    "while True:\n",
    "    key = cv2.waitKey()\n",
    "    if key == 27:\n",
    "        break\n",
    "    \n",
    "    elif key == ord('s'):\n",
    "        print('saved image')\n",
    "        cv2.imwrite('name.png',img)\n",
    "    \n",
    "    elif key == ord('r'):\n",
    "        img = img1\n",
    "        cv2.imshow('image',img)\n",
    "\n",
    "cv2.destroyAllWindows()"
   ]
  },
  {
   "cell_type": "code",
   "execution_count": 26,
   "id": "23252066",
   "metadata": {},
   "outputs": [],
   "source": [
    "def call_mouse(pos):\n",
    "#     img[:] = (img1*(pos/255.)).astype(np.uint8)\n",
    "    img[:] = cv2.add(img1,pos)\n",
    "    cv2.imshow('image',img)\n",
    "\n",
    "img = cv2.imread('./Ch_1_fig/fig/puppy.bmp',0)\n",
    "img1 = img.copy()\n",
    "# img = cv2.add(img,20)\n",
    "\n",
    "cv2.imshow('image',img)\n",
    "\n",
    "cv2.createTrackbar('level', 'image', 0, 255, call_mouse)\n",
    "\n",
    "cv2.waitKey()\n",
    "\n",
    "cv2.destroyAllWindows()"
   ]
  }
 ],
 "metadata": {
  "kernelspec": {
   "display_name": "py3.8",
   "language": "python",
   "name": "py3.8"
  },
  "language_info": {
   "codemirror_mode": {
    "name": "ipython",
    "version": 3
   },
   "file_extension": ".py",
   "mimetype": "text/x-python",
   "name": "python",
   "nbconvert_exporter": "python",
   "pygments_lexer": "ipython3",
   "version": "3.8.16"
  }
 },
 "nbformat": 4,
 "nbformat_minor": 5
}
