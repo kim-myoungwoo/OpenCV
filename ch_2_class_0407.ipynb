{
 "cells": [
  {
   "cell_type": "code",
   "execution_count": 1,
   "metadata": {},
   "outputs": [],
   "source": [
    "import sys\n",
    "import os\n",
    "import glob\n",
    "import matplotlib.pyplot as plt\n",
    "\n",
    "import numpy as np\n",
    "import cv2"
   ]
  },
  {
   "cell_type": "code",
   "execution_count": 10,
   "metadata": {},
   "outputs": [],
   "source": [
    "img = cv2.imread('./fig/puppy.bmp')\n",
    "\n",
    "if img is None:\n",
    "    print('image read failed')\n",
    "    sys.exit()\n",
    "    \n",
    "h, w = img.shape[:2]\n",
    "\n",
    "img[10:100, 50:200] = (0, 0, 255)\n",
    "# img[10:100, 50:200] = 0\n",
    "\n",
    "\n",
    "# p1 = img[h//2:h//2 + 3, w//2:w//2+3]\n",
    "# print('image center value = \\n', p1)\n",
    "x, y, w, h = cv2.selectROI('image', img)\n",
    "\n",
    "    \n",
    "cv2.imshow('image', img)\n",
    "cv2.waitKey()\n",
    "\n",
    "cv2.destroyAllWindows()"
   ]
  },
  {
   "cell_type": "code",
   "execution_count": 16,
   "metadata": {},
   "outputs": [],
   "source": [
    "## \n",
    "img1 = np.zeros((600, 1000, 3), dtype=np.uint8)\n",
    "img2 = np.ones((600, 1000, 3), dtype=np.uint8)*255\n",
    "img3 = np.full((600, 1000, 3), (0, 255, 255), np.uint8)\n",
    "img4 = np.random.randint(0, 255, (600, 1000), np.uint8)\n",
    "\n",
    "\n",
    "cv2.imshow('img1', img1)\n",
    "cv2.imshow('img2', img2)\n",
    "cv2.imshow('img3', img3)\n",
    "cv2.imshow('img4', img4)\n",
    "\n",
    "cv2.waitKey()\n",
    "\n",
    "cv2.destroyAllWindows()"
   ]
  },
  {
   "cell_type": "code",
   "execution_count": 21,
   "metadata": {},
   "outputs": [],
   "source": [
    "## 영상복사\n",
    "\n",
    "img = cv2.imread('./fig/airplane.bmp')\n",
    "\n",
    "if img is None:\n",
    "    print('image read failed')\n",
    "    sys.exit()\n",
    "\n",
    "img1 = img\n",
    "img2 = img.copy()\n",
    "\n",
    "img1[40:80, 100:200] = (255, 0, 255)\n",
    " \n",
    "cv2.imshow('image', img)\n",
    "cv2.imshow('img1', img1)\n",
    "cv2.imshow('img2', img2)\n",
    "\n",
    "\n",
    "cv2.waitKey()\n",
    "cv2.destroyAllWindows()"
   ]
  },
  {
   "cell_type": "code",
   "execution_count": 33,
   "metadata": {},
   "outputs": [],
   "source": [
    "img = cv2.imread('./fig/puppy.bmp')\n",
    "\n",
    "img1 = img[200:400, 300:500]\n",
    "# img2 = img[200:400, 300:500].copy()\n",
    "\n",
    "# circle(img, center, radius, color[, thickness[, lineType[, shift]]]) -> img\n",
    "cv2.circle(img1, (100, 100), 50, (0, 0, 255), -1, cv2.LINE_AA)\n",
    "\n",
    "\n",
    "cv2.imshow('img', img)\n",
    "cv2.imshow('img1', img1)\n",
    "# cv2.imshow('img2', img2)\n",
    "\n",
    "cv2.waitKey()\n",
    "cv2.destroyAllWindows()"
   ]
  },
  {
   "cell_type": "code",
   "execution_count": 42,
   "metadata": {},
   "outputs": [
    {
     "name": "stdout",
     "output_type": "stream",
     "text": [
      "src shape = (400, 600, 3)\n",
      "mask shape = (400, 600)\n",
      "dst shape = (400, 600, 3)\n"
     ]
    }
   ],
   "source": [
    "src = cv2.imread('./fig/airplane.bmp')\n",
    "mask = cv2.imread('./fig/mask_plane.bmp', 0)\n",
    "dst = cv2.imread('./fig/field.bmp')\n",
    "\n",
    "print('src shape =', src.shape)\n",
    "print('mask shape =', mask.shape)\n",
    "print('dst shape =', dst.shape)\n",
    "\n",
    "# cv2.copyTo(src, mask, dst = None) -> dst\n",
    "# cv2.copyTo(src, mask, dst)\n",
    "\n",
    "# dst[mask > 0] = (0, 0, 255)\n",
    "\n",
    "if src is None or mask is None or dst is None:\n",
    "    print('images read failed')\n",
    "    sys.eixt()\n",
    "    \n",
    "    \n",
    "cv2.imshow('src', src)\n",
    "cv2.imshow('mask', mask)\n",
    "cv2.imshow('dst', dst)\n",
    "\n",
    "cv2.waitKey()\n",
    "cv2.destroyAllWindows()\n",
    "\n"
   ]
  },
  {
   "cell_type": "code",
   "execution_count": 49,
   "metadata": {},
   "outputs": [],
   "source": [
    "src = cv2.imread('./fig/cow.png')\n",
    "dst = cv2.imread('./fig/green.png')\n",
    "h, w = src.shape[:2]\n",
    "\n",
    "src_gray = cv2.cvtColor(src, cv2.COLOR_BGR2GRAY)\n",
    "_, mask = cv2.threshold(src_gray, 240, 255, cv2.THRESH_BINARY_INV)\n",
    "dst_resize  = cv2.resize(dst, (w, h))\n",
    "\n",
    "if src is None or dst is None:\n",
    "    print('image read failed')\n",
    "    sys.exit()\n",
    "    \n",
    "    \n",
    "cv2.imshow('src', src)\n",
    "cv2.imshow('src_gray', src_gray)\n",
    "cv2.imshow('mask', mask)\n",
    "\n",
    "\n",
    "# cv2.imshow('dst', dst)\n",
    "cv2.imshow('dst_resize', dst_resize)\n",
    "\n",
    "\n",
    "cv2.waitKey()\n",
    "cv2.destroyAllWindows()\n"
   ]
  }
 ],
 "metadata": {
  "kernelspec": {
   "display_name": "Python 3 (ipykernel)",
   "language": "python",
   "name": "python3"
  },
  "language_info": {
   "codemirror_mode": {
    "name": "ipython",
    "version": 3
   },
   "file_extension": ".py",
   "mimetype": "text/x-python",
   "name": "python",
   "nbconvert_exporter": "python",
   "pygments_lexer": "ipython3",
   "version": "3.8.16"
  }
 },
 "nbformat": 4,
 "nbformat_minor": 2
}
