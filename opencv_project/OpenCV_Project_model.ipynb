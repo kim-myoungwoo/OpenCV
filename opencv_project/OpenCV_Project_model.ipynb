{
  "nbformat": 4,
  "nbformat_minor": 0,
  "metadata": {
    "colab": {
      "provenance": []
    },
    "kernelspec": {
      "name": "python3",
      "display_name": "Python 3"
    },
    "language_info": {
      "name": "python"
    },
    "accelerator": "GPU",
    "gpuClass": "standard"
  },
  "cells": [
    {
      "cell_type": "code",
      "execution_count": 42,
      "metadata": {
        "colab": {
          "base_uri": "https://localhost:8080/"
        },
        "id": "Dm8Fmfmo40ER",
        "outputId": "cbe6a89a-1386-40a1-a74d-f1068b9253ca"
      },
      "outputs": [
        {
          "output_type": "stream",
          "name": "stdout",
          "text": [
            "Drive already mounted at /content/drive; to attempt to forcibly remount, call drive.mount(\"/content/drive\", force_remount=True).\n"
          ]
        }
      ],
      "source": [
        "from google.colab import drive\n",
        "drive.mount('/content/drive')"
      ]
    },
    {
      "cell_type": "code",
      "source": [
        "import numpy as np\n",
        "import tensorflow as tf\n",
        "from tensorflow.keras.preprocessing.image import ImageDataGenerator"
      ],
      "metadata": {
        "id": "zMd8V34g5iJm"
      },
      "execution_count": 43,
      "outputs": []
    },
    {
      "cell_type": "code",
      "source": [
        "import zipfile\n",
        "\n",
        "path = '../content/drive/MyDrive/Colab Notebooks/opencv_project/archive.zip'\n",
        "zip_object = zipfile.ZipFile(file=path, mode='r')\n",
        "zip_object.extractall('./')\n",
        "zip_object.close()"
      ],
      "metadata": {
        "id": "Fqm9XgGp5iLt"
      },
      "execution_count": 44,
      "outputs": []
    },
    {
      "cell_type": "code",
      "source": [
        "tf.keras.preprocessing.image.load_img('/content/train/surprise/Training_8796.jpg')"
      ],
      "metadata": {
        "colab": {
          "base_uri": "https://localhost:8080/",
          "height": 65
        },
        "id": "TVl_ObOq5iOG",
        "outputId": "fa97f110-94b0-42c4-c909-05c6402bb059"
      },
      "execution_count": 45,
      "outputs": [
        {
          "output_type": "execute_result",
          "data": {
            "text/plain": [
              "<PIL.Image.Image image mode=RGB size=48x48 at 0x7F113F695F70>"
            ],
            "image/png": "[encoded data removed]"
          },
          "metadata": {},
          "execution_count": 45
        }
      ]
    },
    {
      "cell_type": "code",
      "source": [
        "sample=tf.keras.preprocessing.image.load_img('/content/train/happy/Training_1206.jpg')\n",
        "np.array(sample).shape"
      ],
      "metadata": {
        "id": "Qu5IRGZa5iQi",
        "colab": {
          "base_uri": "https://localhost:8080/"
        },
        "outputId": "ebb5e728-e357-4491-bb9a-427bd9638577"
      },
      "execution_count": 46,
      "outputs": [
        {
          "output_type": "execute_result",
          "data": {
            "text/plain": [
              "(48, 48, 3)"
            ]
          },
          "metadata": {},
          "execution_count": 46
        }
      ]
    },
    {
      "cell_type": "code",
      "source": [
        "train_data_generator = ImageDataGenerator(horizontal_flip=True,rescale=1/255)  # Degree range for random rotations\n",
        "                                    #  zoom_range=0.2,  # Float or [lower, upper]. Range for random zoom. If a float, [lower, upper] = [1-zoom_range, 1+zoom_range]\n",
        "                                    #  horizontal_flip=True,  # Randomly flip inputs horizontally\n",
        "                                    #  rescale=1/255)  # Rescaling by 1/255 to normalize"
      ],
      "metadata": {
        "id": "39EKK9B7DXmd"
      },
      "execution_count": 47,
      "outputs": []
    },
    {
      "cell_type": "code",
      "source": [
        "train_dataset = train_data_generator.flow_from_directory(directory='/content/train',\n",
        "                                                    target_size=(48, 48),  # Tuple of integers (height, width), defaults to (256, 256)\n",
        "                                                    class_mode='categorical',\n",
        "                                                    batch_size=16,  # Size of the batches of data (default: 32)\n",
        "                                                    shuffle=True,  # Whether to shuffle the data (default: True) If set to False, sorts the data in alphanumeric order\n",
        "                                                    seed=10)"
      ],
      "metadata": {
        "id": "mBWuQT8uDXot",
        "colab": {
          "base_uri": "https://localhost:8080/"
        },
        "outputId": "a833e465-22c0-49c3-f30b-1642af6c9a5c"
      },
      "execution_count": 48,
      "outputs": [
        {
          "output_type": "stream",
          "name": "stdout",
          "text": [
            "Found 28709 images belonging to 7 classes.\n"
          ]
        }
      ]
    },
    {
      "cell_type": "code",
      "source": [
        "train_dataset.classes"
      ],
      "metadata": {
        "id": "w-vm19CGDXtH",
        "colab": {
          "base_uri": "https://localhost:8080/"
        },
        "outputId": "fcd37466-1bd9-4318-f1de-4bf9b0a52f58"
      },
      "execution_count": 49,
      "outputs": [
        {
          "output_type": "execute_result",
          "data": {
            "text/plain": [
              "array([0, 0, 0, ..., 6, 6, 6], dtype=int32)"
            ]
          },
          "metadata": {},
          "execution_count": 49
        }
      ]
    },
    {
      "cell_type": "code",
      "source": [
        "train_dataset.class_indices"
      ],
      "metadata": {
        "id": "VdR1pvY-FEgN",
        "colab": {
          "base_uri": "https://localhost:8080/"
        },
        "outputId": "33c595cc-d8bc-4329-ef02-14fb97f5211b"
      },
      "execution_count": 50,
      "outputs": [
        {
          "output_type": "execute_result",
          "data": {
            "text/plain": [
              "{'angry': 0,\n",
              " 'disgust': 1,\n",
              " 'fear': 2,\n",
              " 'happy': 3,\n",
              " 'neutral': 4,\n",
              " 'sad': 5,\n",
              " 'surprise': 6}"
            ]
          },
          "metadata": {},
          "execution_count": 50
        }
      ]
    },
    {
      "cell_type": "code",
      "source": [
        "np.unique(train_dataset.classes, return_counts=True)"
      ],
      "metadata": {
        "id": "H27jlIRkFEiV",
        "colab": {
          "base_uri": "https://localhost:8080/"
        },
        "outputId": "d9f11309-be52-4bec-8d88-c10d84c47f52"
      },
      "execution_count": 51,
      "outputs": [
        {
          "output_type": "execute_result",
          "data": {
            "text/plain": [
              "(array([0, 1, 2, 3, 4, 5, 6], dtype=int32),\n",
              " array([3995,  436, 4097, 7215, 4965, 4830, 3171]))"
            ]
          },
          "metadata": {},
          "execution_count": 51
        }
      ]
    },
    {
      "cell_type": "code",
      "source": [
        "test_generator = ImageDataGenerator(rescale=1/255)\n",
        "\n",
        "test_dataset = test_generator.flow_from_directory(directory='/content/test',\n",
        "                                                  target_size=(48, 48),\n",
        "                                                  class_mode='categorical',\n",
        "                                                  batch_size=1,\n",
        "                                                  shuffle=True)"
      ],
      "metadata": {
        "id": "n2ShsrgeFEkg",
        "colab": {
          "base_uri": "https://localhost:8080/"
        },
        "outputId": "85ea160e-f271-40d4-f27b-353aff7587f1"
      },
      "execution_count": 52,
      "outputs": [
        {
          "output_type": "stream",
          "name": "stdout",
          "text": [
            "Found 7178 images belonging to 7 classes.\n"
          ]
        }
      ]
    },
    {
      "cell_type": "code",
      "source": [
        "from tensorflow.keras.models import Sequential\n",
        "from tensorflow.keras.layers import Dense, Dropout, MaxPooling2D , Conv2D, Flatten, BatchNormalization\n",
        "from tensorflow.keras.callbacks import EarlyStopping, ModelCheckpoint"
      ],
      "metadata": {
        "id": "EGKF2o7z5iSq"
      },
      "execution_count": 53,
      "outputs": []
    },
    {
      "cell_type": "code",
      "source": [
        "len(np.unique(train_dataset.classes))"
      ],
      "metadata": {
        "id": "i7_LkP05MN1E",
        "colab": {
          "base_uri": "https://localhost:8080/"
        },
        "outputId": "b65d6e7e-3234-46e0-d928-8686b9c00cc9"
      },
      "execution_count": 54,
      "outputs": [
        {
          "output_type": "execute_result",
          "data": {
            "text/plain": [
              "7"
            ]
          },
          "metadata": {},
          "execution_count": 54
        }
      ]
    },
    {
      "cell_type": "code",
      "source": [
        "num_classes = len(np.unique(train_dataset.classes))\n",
        "num_detectors = 32\n",
        "w, h = np.array(sample).shape[:2]\n",
        "\n",
        "model = Sequential()\n",
        "\n",
        "model.add(Conv2D(filters=num_detectors, kernel_size=3, activation='relu', padding='same', input_shape=(w, h, 3)))\n",
        "model.add(BatchNormalization())\n",
        "model.add(Conv2D(filters=num_detectors, kernel_size=3, activation='relu', padding='same'))\n",
        "model.add(BatchNormalization())\n",
        "model.add(MaxPooling2D(pool_size=(2, 2)))\n",
        "model.add(Dropout(0.2))\n",
        "\n",
        "model.add(Conv2D(2*num_detectors, 3, activation='relu', padding='same'))\n",
        "model.add(BatchNormalization())\n",
        "model.add(Conv2D(2*num_detectors, 3, activation='relu', padding='same'))\n",
        "model.add(BatchNormalization())\n",
        "model.add(MaxPooling2D(pool_size=(2, 2)))\n",
        "model.add(Dropout(0.2))\n",
        "\n",
        "model.add(Conv2D(2*2*num_detectors, 3, activation='relu', padding='same'))\n",
        "model.add(BatchNormalization())\n",
        "model.add(Conv2D(2*2*num_detectors, 3, activation='relu', padding='same'))\n",
        "model.add(BatchNormalization())\n",
        "model.add(MaxPooling2D(pool_size=(2, 2)))\n",
        "model.add(Dropout(0.2))\n",
        "\n",
        "model.add(Conv2D(2*2*2*num_detectors, 3, activation='relu', padding='same'))\n",
        "model.add(BatchNormalization())\n",
        "model.add(Conv2D(2*2*2*num_detectors, 3, activation='relu', padding='same'))\n",
        "model.add(BatchNormalization())\n",
        "model.add(MaxPooling2D(pool_size=(2, 2)))\n",
        "model.add(Dropout(0.2))\n",
        "\n",
        "model.add(Flatten())\n",
        "\n",
        "model.add(Dense(2*2*num_detectors, activation='relu'))\n",
        "model.add(BatchNormalization())\n",
        "model.add(Dropout(0.2))\n",
        "\n",
        "model.add(Dense(2*num_detectors, activation='relu'))\n",
        "model.add(BatchNormalization())\n",
        "model.add(Dropout(0.2))\n",
        "\n",
        "model.add(Dense(num_classes, activation='softmax'))"
      ],
      "metadata": {
        "id": "jU3Fbd7K5iVC"
      },
      "execution_count": 69,
      "outputs": []
    },
    {
      "cell_type": "code",
      "source": [
        "model.compile(optimizer='adam', loss='categorical_crossentropy', metrics=['accuracy'])\n",
        "checkpointer = ModelCheckpoint(filepath='../content/drive/MyDrive/Colab Notebooks/opencv_project/model/face_emotion.hdf5', verbose=0, save_best_only=True)\n",
        "early_stopping = EarlyStopping(patience=5)"
      ],
      "metadata": {
        "id": "dV4iJfRI5iXF"
      },
      "execution_count": 70,
      "outputs": []
    },
    {
      "cell_type": "code",
      "source": [
        "model.fit(train_dataset, epochs=100, validation_data=test_dataset,batch_size=32, validation_steps=8, callbacks=[early_stopping,checkpointer])"
      ],
      "metadata": {
        "id": "x8ZlVCoI5iZX",
        "colab": {
          "base_uri": "https://localhost:8080/"
        },
        "outputId": "1c15313c-2a36-4b86-9435-32bf74e4a0d1"
      },
      "execution_count": 75,
      "outputs": [
        {
          "output_type": "stream",
          "name": "stdout",
          "text": [
            "Epoch 1/100\n",
            "1795/1795 [==============================] - 49s 27ms/step - loss: 1.0385 - accuracy: 0.6167 - val_loss: 0.9738 - val_accuracy: 0.5000\n",
            "Epoch 2/100\n",
            "1795/1795 [==============================] - 49s 27ms/step - loss: 1.0228 - accuracy: 0.6247 - val_loss: 1.0508 - val_accuracy: 0.5000\n",
            "Epoch 3/100\n",
            "1795/1795 [==============================] - 51s 28ms/step - loss: 1.0076 - accuracy: 0.6263 - val_loss: 1.1337 - val_accuracy: 0.6250\n",
            "Epoch 4/100\n",
            "1795/1795 [==============================] - 48s 27ms/step - loss: 1.0017 - accuracy: 0.6307 - val_loss: 1.0261 - val_accuracy: 0.6250\n",
            "Epoch 5/100\n",
            "1795/1795 [==============================] - 50s 28ms/step - loss: 0.9883 - accuracy: 0.6385 - val_loss: 1.0436 - val_accuracy: 0.6250\n",
            "Epoch 6/100\n",
            "1795/1795 [==============================] - 51s 28ms/step - loss: 0.9892 - accuracy: 0.6336 - val_loss: 0.9118 - val_accuracy: 0.6250\n",
            "Epoch 7/100\n",
            "1795/1795 [==============================] - 51s 28ms/step - loss: 0.9782 - accuracy: 0.6423 - val_loss: 1.2048 - val_accuracy: 0.6250\n",
            "Epoch 8/100\n",
            "1795/1795 [==============================] - 51s 28ms/step - loss: 0.9721 - accuracy: 0.6442 - val_loss: 1.0005 - val_accuracy: 0.7500\n",
            "Epoch 9/100\n",
            "1795/1795 [==============================] - 50s 28ms/step - loss: 0.9577 - accuracy: 0.6463 - val_loss: 1.1525 - val_accuracy: 0.6250\n",
            "Epoch 10/100\n",
            "1795/1795 [==============================] - 50s 28ms/step - loss: 0.9597 - accuracy: 0.6495 - val_loss: 0.9969 - val_accuracy: 0.6250\n",
            "Epoch 11/100\n",
            "1795/1795 [==============================] - 48s 27ms/step - loss: 0.9454 - accuracy: 0.6535 - val_loss: 0.9510 - val_accuracy: 0.6250\n"
          ]
        },
        {
          "output_type": "execute_result",
          "data": {
            "text/plain": [
              "<keras.callbacks.History at 0x7f109622af40>"
            ]
          },
          "metadata": {},
          "execution_count": 75
        }
      ]
    },
    {
      "cell_type": "code",
      "source": [
        "model.evaluate(test_dataset)"
      ],
      "metadata": {
        "id": "yJrGVkbM5ibn",
        "colab": {
          "base_uri": "https://localhost:8080/"
        },
        "outputId": "e5e06c95-d095-4686-da58-21bb3c88b1a6"
      },
      "execution_count": 74,
      "outputs": [
        {
          "output_type": "stream",
          "name": "stdout",
          "text": [
            "7178/7178 [==============================] - 33s 5ms/step - loss: 1.0255 - accuracy: 0.6145\n"
          ]
        },
        {
          "output_type": "execute_result",
          "data": {
            "text/plain": [
              "[1.0255069732666016, 0.61451655626297]"
            ]
          },
          "metadata": {},
          "execution_count": 74
        }
      ]
    },
    {
      "cell_type": "code",
      "source": [
        "# import cv2\n",
        "# import sys\n",
        "# import dlib"
      ],
      "metadata": {
        "id": "4vrthn1X5id5"
      },
      "execution_count": null,
      "outputs": []
    },
    {
      "cell_type": "code",
      "source": [
        "# cap = cv2.VideoCapture(0)\n",
        "\n",
        "# if not cap.isOpened():\n",
        "#   print('camera open failed')\n",
        "#   sys.exit()\n",
        "\n",
        "# while True:\n",
        "#   ret, frame = cap.read()\n",
        "#   if not ret:\n",
        "#     print('frame read failed')\n",
        "#     sys.exit()\n",
        "\n",
        "#   face_detector = dlib.cnn_face_detection_model_v1('/content/drive/MyDrive/Colab Notebooks/opencv_project/mmod_human_face_detector.dat')\n",
        "\n",
        "#   face_detection = face_detector(frame, 1)\n",
        "\n",
        "#   left, top, right, bottom = face_detection[0].rect.left(), face_detection[0].rect.top(), face_detection[0].rect.right(), face_detection[0].rect.bottom()\n",
        "\n",
        "#   frame = frame[top:bottom, left:right]\n",
        "\n",
        "#   cv2_imshow(frame)"
      ],
      "metadata": {
        "id": "V46ouv6j5if4"
      },
      "execution_count": null,
      "outputs": []
    },
    {
      "cell_type": "code",
      "source": [],
      "metadata": {
        "id": "m9ejq57UQq8D"
      },
      "execution_count": null,
      "outputs": []
    }
  ]
}