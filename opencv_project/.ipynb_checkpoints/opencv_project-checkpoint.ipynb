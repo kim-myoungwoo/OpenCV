{
 "cells": [
  {
   "cell_type": "code",
   "execution_count": 2,
   "id": "bafa1cc0",
   "metadata": {
    "scrolled": true
   },
   "outputs": [],
   "source": [
    "import cv2\n",
    "import numpy as np\n",
    "import sys\n",
    "import pandas as pd\n",
    "from tensorflow import keras"
   ]
  },
  {
   "cell_type": "code",
   "execution_count": 22,
   "id": "9ca0111b",
   "metadata": {},
   "outputs": [],
   "source": [
    "%%capture\n",
    "cap = cv2.VideoCapture(0)\n",
    "\n",
    "if not cap.isOpened():\n",
    "    print('camera open failed')\n",
    "    sys.exit()\n",
    "\n",
    "w = int(cap.get(cv2.CAP_PROP_FRAME_WIDTH))\n",
    "h = int(cap.get(cv2.CAP_PROP_FRAME_HEIGHT))\n",
    "    \n",
    "while True:\n",
    "    ret, frame = cap.read()\n",
    "    if not ret:\n",
    "        print('frame read failed')\n",
    "        sys.exit()\n",
    "\n",
    "    ## Caffe model\n",
    "    model = '../face_detector/res10_300x300_ssd_iter_140000_fp16.caffemodel'\n",
    "    config = '../face_detector/deploy.prototxt.txt'\n",
    "\n",
    "    ## tensorflow\n",
    "    model = '../face_detector/opencv_face_detector_uint8.pb'\n",
    "    config = '../face_detector/opencv_face_detector.pbtxt.txt'\n",
    "    \n",
    "    network = keras.models.load_model('./model/face_emotion.hdf5')\n",
    "\n",
    "    ## model import\n",
    "    face_net = cv2.dnn.readNet(model, config)\n",
    "\n",
    "    if face_net.empty():\n",
    "        print('model read failed')\n",
    "        sys.exit()\n",
    "    \n",
    "    blob = cv2.dnn.blobFromImage(frame, 1, (300,300), (104,177,123), \n",
    "                                swapRB = False)\n",
    "    face_net.setInput(blob)\n",
    "    out = face_net.forward()\n",
    "\n",
    "    labels = ['img_id', 'is_face', 'confidence', 'x1', 'y1', 'x2', 'y2']\n",
    "    out_df = pd.DataFrame(out[0][0], columns = labels)\n",
    "    \n",
    "            \n",
    "    emotion_frame = cv2.resize(frame,(48,48))\n",
    "    \n",
    "    emotion_frame = emotion_frame / 255\n",
    "    \n",
    "    emotion_frame = np.expand_dims(emotion_frame, axis=0)\n",
    "    \n",
    "    pred_probability = network.predict(emotion_frame)\n",
    "    \n",
    "    pred = np.argmax(pred_probability)\n",
    "\n",
    "    detect = out[0,0,:,:]\n",
    "    \n",
    "    target_dict ={0:'Angry', 1:'Disgust', 2:'Fear', 3:'Happy', 4:'Neutral',5:'Sad', 6:'Surprise'}\n",
    "    target_series = pd.Series(target_dict)\n",
    "    \n",
    "    for i in range(detect.shape[0]):\n",
    "        confidence = detect[i,2]\n",
    "\n",
    "        if confidence > 0.5:\n",
    "            x1 = int(detect[i,3]*w)\n",
    "            y1 = int(detect[i,4]*h)\n",
    "            x2 = int(detect[i,5]*w)\n",
    "            y2 = int(detect[i,6]*h)\n",
    "\n",
    "            cv2.rectangle(frame, (x1,y1), (x2,y2), (0,255,255), 1, cv2.LINE_AA)\n",
    "            text = f'{target_series[pred]}:{pred_probability.max()*100:.2f}%'\n",
    "            cv2.putText(frame,text, (x1,y1-3), cv2.FONT_HERSHEY_COMPLEX, 0.5,\n",
    "                       (0,0,255), 1, cv2.LINE_AA)\n",
    "    cv2.imshow('emotion_frame',frame)\n",
    "    if cv2.waitKey(20) == 27:\n",
    "        break\n",
    "        \n",
    "#     print(frame.shape)\n",
    "cap.release()\n",
    "cv2.destroyAllWindows()"
   ]
  },
  {
   "cell_type": "code",
   "execution_count": 13,
   "id": "6612b6ef",
   "metadata": {},
   "outputs": [],
   "source": [
    "a=np.array([[1.6061535e-01, 1.4578884e-04, 1.8617315e-02, 7.9159176e-01,\n",
    "               2.1857673e-02, 5.3516589e-03, 1.8204855e-03]])"
   ]
  },
  {
   "cell_type": "code",
   "execution_count": 16,
   "id": "ac35c4ba",
   "metadata": {},
   "outputs": [
    {
     "data": {
      "text/plain": [
       "dtype('int64')"
      ]
     },
     "execution_count": 16,
     "metadata": {},
     "output_type": "execute_result"
    }
   ],
   "source": []
  }
 ],
 "metadata": {
  "kernelspec": {
   "display_name": "py3.8",
   "language": "python",
   "name": "py3.8"
  },
  "language_info": {
   "codemirror_mode": {
    "name": "ipython",
    "version": 3
   },
   "file_extension": ".py",
   "mimetype": "text/x-python",
   "name": "python",
   "nbconvert_exporter": "python",
   "pygments_lexer": "ipython3",
   "version": "3.8.16"
  }
 },
 "nbformat": 4,
 "nbformat_minor": 5
}
