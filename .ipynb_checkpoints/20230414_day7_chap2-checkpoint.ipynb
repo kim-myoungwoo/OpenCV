{
 "cells": [
  {
   "cell_type": "code",
   "execution_count": 1,
   "id": "4f8b32a6",
   "metadata": {},
   "outputs": [],
   "source": [
    "import cv2\n",
    "import numpy as np\n",
    "import sys"
   ]
  },
  {
   "cell_type": "code",
   "execution_count": 15,
   "id": "b91a5480",
   "metadata": {},
   "outputs": [],
   "source": [
    "def call_trackbar(pos):\n",
    "    img[:] = (img1*(pos/255.)).astype(np.uint8)\n",
    "    cv2.imshow('image',img)\n",
    "\n",
    "img = cv2.imread('./Ch_1_fig/fig/fig/field.bmp',0)\n",
    "\n",
    "if img is None:\n",
    "    print('image read failed')\n",
    "    sys.exit()\n",
    "    \n",
    "img1= img.copy()\n",
    "\n",
    "cv2.imshow('image',img)\n",
    "cv2.createTrackbar('level','image',0,255,call_trackbar)\n",
    "\n",
    "cv2.waitKey()\n",
    "\n",
    "cv2.destroyAllWindows()"
   ]
  },
  {
   "cell_type": "code",
   "execution_count": 3,
   "id": "568d7933",
   "metadata": {},
   "outputs": [],
   "source": [
    "def call_mouse(event,x,y,flags,param):\n",
    "    global oldx, oldy\n",
    "    \n",
    "    if event == cv2.EVENT_LBUTTONDOWN:\n",
    "        oldx, oldy = x, y\n",
    "        \n",
    "    elif event == cv2.EVENT_MOUSEMOVE:\n",
    "        if flags == cv2.EVENT_FLAG_LBUTTON:\n",
    "            cv2.line(img, (oldx,oldy), (x,y),(0,0,255), 5, cv2.LINE_AA)\n",
    "            cv2.imshow('image',img)\n",
    "            oldx, oldy = x, y\n",
    "\n",
    "\n",
    "img = np.ones((600,600,3), np.uint8)*255\n",
    "\n",
    "cv2.imshow('image',img)\n",
    "cv2.setMouseCallback('image', call_mouse)\n",
    "\n",
    "while True:\n",
    "    key = cv2.waitKey()\n",
    "    if key == 27:\n",
    "        break\n",
    "    elif key == ord('s'):\n",
    "        print('saved image')\n",
    "        cv2.imwrite('signature.png', img)\n",
    "\n",
    "\n",
    "cv2.destroyAllWindows()"
   ]
  },
  {
   "cell_type": "code",
   "execution_count": 9,
   "id": "27851b4a",
   "metadata": {},
   "outputs": [],
   "source": [
    "cap = cv2.VideoCapture(0)\n",
    "\n",
    "if not cap.isOpened():\n",
    "    print('camera open failed')\n",
    "    sys.exit()\n",
    "    \n",
    "w = int(cap.get(cv2.CAP_PROP_FRAME_WIDTH))\n",
    "h= int(cap.get(cv2.CAP_PROP_FRAME_HEIGHT))\n",
    "fps = int(cap.get(cv2.CAP_PROP_FPS))\n",
    "fourcc = cv2.VideoWriter_fourcc(*'DIVX')\n",
    "\n",
    "out = cv2.VideoWriter('output_0414.avi', fourcc, fps, (w,h))\n",
    "\n",
    "while True:\n",
    "    ret, frame = cap.read()\n",
    "        \n",
    "    if not ret:\n",
    "        print('frame read failed')\n",
    "        sys.exit()\n",
    "        \n",
    "    out.write(frame)\n",
    "    cv2.imshow('frame',frame)\n",
    "    \n",
    "    if cv2.waitKey(20) ==27:\n",
    "        break\n",
    "        \n",
    "cap.release()\n",
    "out.release()\n",
    "\n",
    "cv2.destroyAllWindows()"
   ]
  },
  {
   "cell_type": "code",
   "execution_count": 8,
   "id": "ec046613",
   "metadata": {},
   "outputs": [],
   "source": [
    "img = np.full((600,1200,3),(0,255,255), np.uint8)\n",
    "\n",
    "cv2.line(img,(100,100), (300,200), (0,0,255), 5, cv2.LINE_AA)\n",
    "cv2.arrowedLine(img, (300,200),(300,100), (255,255,0), 5, cv2.LINE_AA)\n",
    "cv2.rectangle(img, (100, 500), (500, 600),(100,50,200),cv2.LINE_AA)\n",
    "cv2.rectangle(img, (120,480, 60, 50), (20,50,80),-1)\n",
    "cv2.circle(img, (600,300), 50,(200,200,50), 5, cv2.LINE_AA)\n",
    "cv2.ellipse(img, (800,300), (50,200), -10, 0, 270, (50,100,140), 5, cv2.LINE_AA)\n",
    "cv2.putText(img, ' d',(800,100), cv2.FONT_HERSHEY_SCRIPT_COMPLEX, 2, (0,0,255), 2, cv2.LINE_AA)\n",
    "\n",
    "pts = np.array([[250,200], [350,300], [350,200],[250,300]])\n",
    "cv2.polylines(img, [pts], True, (222,0,0),5,cv2.LINE_AA)\n",
    "cv2.imshow('img',img)\n",
    "\n",
    "cv2.waitKey()\n",
    "cv2.destroyAllWindows()"
   ]
  },
  {
   "cell_type": "code",
   "execution_count": 19,
   "id": "01a557b7",
   "metadata": {},
   "outputs": [
    {
     "name": "stdout",
     "output_type": "stream",
     "text": [
      "time =  11.963 ms\n"
     ]
    }
   ],
   "source": [
    "import time\n",
    "\n",
    "img = cv2.imread('./Ch_1_fig/fig/puppy.bmp',0)\n",
    "t1 = time.time()\n",
    "\n",
    "# t1.start()\n",
    "for _ in  range(10):\n",
    "    img = cv2.GaussianBlur(img,(0,0),4)\n",
    "\n",
    "t2 = time.time()\n",
    "cv2.imshow('image',img)\n",
    "\n",
    "print('time = ',round((t2-t1)*1000,3),'ms')\n",
    "\n",
    "cv2.waitKey()\n",
    "cv2.destroyAllWindows()"
   ]
  }
 ],
 "metadata": {
  "kernelspec": {
   "display_name": "py3.8",
   "language": "python",
   "name": "py3.8"
  },
  "language_info": {
   "codemirror_mode": {
    "name": "ipython",
    "version": 3
   },
   "file_extension": ".py",
   "mimetype": "text/x-python",
   "name": "python",
   "nbconvert_exporter": "python",
   "pygments_lexer": "ipython3",
   "version": "3.8.16"
  }
 },
 "nbformat": 4,
 "nbformat_minor": 5
}
