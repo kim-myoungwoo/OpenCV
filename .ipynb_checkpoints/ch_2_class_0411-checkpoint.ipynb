{
 "cells": [
  {
   "cell_type": "code",
   "execution_count": 1,
   "metadata": {},
   "outputs": [],
   "source": [
    "import numpy as np\n",
    "import sys\n",
    "import cv2\n",
    "import matplotlib.pyplot as plt"
   ]
  },
  {
   "cell_type": "code",
   "execution_count": 2,
   "metadata": {},
   "outputs": [],
   "source": [
    "src = cv2.imread('./fig/airplane.bmp')\n",
    "mask = cv2.imread('./fig/mask_plane.bmp', cv2.IMREAD_GRAYSCALE)\n",
    "dst = cv2.imread('./fig/field.bmp')\n",
    "\n",
    "if src is None or mask is None or dst is None:\n",
    "    print('images read failed')\n",
    "    sys.exit()\n",
    "    \n",
    "cv2.copyTo(src, mask, dst)\n",
    "    \n",
    "cv2.imshow('src', src)\n",
    "cv2.imshow('mask', mask)\n",
    "cv2.imshow('dst', dst)\n",
    "\n",
    "cv2.waitKey()\n",
    "cv2.destroyAllWindows()\n"
   ]
  },
  {
   "cell_type": "code",
   "execution_count": 7,
   "metadata": {},
   "outputs": [],
   "source": [
    "src = cv2.imread('./fig/cow.png')\n",
    "dst = cv2.imread('./fig/green.png')\n",
    "\n",
    "src_gray = cv2.cvtColor(src, cv2.COLOR_BGR2GRAY)\n",
    "retval, mask = cv2.threshold(src_gray, 240, 255, cv2.THRESH_BINARY_INV)\n",
    "\n",
    "h, w = src.shape[:2]\n",
    "dst_re = cv2.resize(dst, (w, h), interpolation=cv2.INTER_AREA)\n",
    "\n",
    "cv2.copyTo(src, mask, dst_re)\n",
    "\n",
    "if src is None or dst is None:\n",
    "    print('image read failed')\n",
    "    sys.exit()\n",
    "    \n",
    "cv2.imshow('src', src)\n",
    "cv2.imshow('src_gray', src_gray)\n",
    "cv2.imshow('dst_re', dst_re)\n",
    "cv2.imshow('mask', mask)\n",
    "\n",
    "\n",
    "\n",
    "cv2.waitKey()\n",
    "cv2.destroyAllWindows()\n"
   ]
  },
  {
   "cell_type": "code",
   "execution_count": 8,
   "metadata": {},
   "outputs": [],
   "source": [
    "img1 = np.zeros((600, 1000, 3), np.uint8)\n",
    "img2 = np.ones((600, 1000, 3), np.uint8)*255\n",
    "img3 = np.full((600, 1000, 3), (134, 27, 65), np.uint8)\n",
    "\n",
    "cv2.imshow('img1', img1)\n",
    "cv2.imshow('img2', img2)\n",
    "cv2.imshow('img3', img3)\n",
    "\n",
    "cv2.waitKey()\n",
    "cv2.destroyAllWindows()\n"
   ]
  },
  {
   "cell_type": "code",
   "execution_count": 57,
   "metadata": {},
   "outputs": [],
   "source": [
    "img = cv2.imread('./fig/rudolf.png', cv2.IMREAD_GRAYSCALE)\n",
    "\n",
    "if img is None:\n",
    "    print('image read failed')\n",
    "    sys.exit()\n",
    "\n",
    "# img_gaussian_s1 = cv2.GaussianBlur(img,(0,0), 1)\n",
    "# img_gaussian_s2 = cv2.GaussianBlur(img,(0,0), 2)\n",
    "# img_gaussian_s3 = cv2.GaussianBlur(img,(0,0), 3)\n",
    "\n",
    "# cv2.imwrite('img_gaussian_s1.png', img_gaussian_s1)\n",
    "# cv2.imwrite('img_gaussian_s2.png', img_gaussian_s2)\n",
    "# cv2.imwrite('img_gaussian_s3.png', img_gaussian_s3)\n",
    "\n",
    "# sharpening_mask1 = np.array([[-1, -1, -1], [-1, 9, -1], [-1, -1, -1]])\n",
    "# sharpening_mask2 = np.array([[0, -1, 0], [-1, 5, -1], [0, -1, 0]])\n",
    "embossing_kernel = np.array([[-1, -1, 0], [-1, 0, 1], [0, 1, 1]])\n",
    "embossing = cv2.filter2D(img, -1, embossing_kernel)\n",
    "embossing = cv2.add(embossing, 128)\n",
    "\n",
    "# sharpening_out1 = cv2.filter2D(img, -1, sharpening_mask1)\n",
    "# sharpening_out2 = cv2.filter2D(img, -1, sharpening_mask2)\n",
    "\n",
    "# cv2.imwrite('sharpening_out1.png', sharpening_out1)\n",
    "# cv2.imwrite('sharpening_out2.png', sharpening_out2)\n",
    "\n",
    "cv2.namedWindow('image', cv2.WINDOW_AUTOSIZE)\n",
    "cv2.imshow('image', img) \n",
    "# cv2.imshow('sharpening_out1', sharpening_out1)\n",
    "# cv2.imshow('sharpening_out2', sharpening_out2)\n",
    "cv2.imshow('embossing', embossing)\n",
    "\n",
    " \n",
    "\n",
    "\n",
    "while True:\n",
    "    key = cv2.waitKey()\n",
    "    if key == 27 or key == ord('q'):\n",
    "        break\n",
    "    \n",
    "cv2.destroyAllWindows()\n"
   ]
  },
  {
   "cell_type": "code",
   "execution_count": 35,
   "metadata": {},
   "outputs": [],
   "source": [
    "src = cv2.imread('./fig/cow.png')\n",
    "dst = cv2.imread('./fig/green.png')\n",
    "\n",
    "src_gray = cv2.cvtColor(src, cv2.COLOR_BGR2GRAY)\n",
    "retval, mask = cv2.threshold(src_gray, 240, 255, cv2.THRESH_BINARY_INV)\n",
    "\n",
    "h, w = src.shape[:2]\n",
    "# dst_re = cv2.resize(dst, (w, h), interpolation=cv2.INTER_AREA)\n",
    "\n",
    "dst_crop = dst[400: 400+h, 200:200+w]\n",
    "cv2.copyTo(src, mask, dst_crop)\n",
    "\n",
    "if src is None or dst is None:\n",
    "    print('image read failed')\n",
    "    sys.exit()\n",
    "    \n",
    "cv2.imshow('src', src)\n",
    "cv2.imshow('dst_crop', dst_crop)\n",
    "cv2.imshow('dst', dst)\n",
    "\n",
    "# cv2.imshow('mask', mask)\n",
    "\n",
    "\n",
    "\n",
    "cv2.waitKey()\n",
    "cv2.destroyAllWindows()"
   ]
  },
  {
   "cell_type": "code",
   "execution_count": 45,
   "metadata": {},
   "outputs": [
    {
     "name": "stdout",
     "output_type": "stream",
     "text": [
      "shape of sunglass =  (150, 300, 4)\n"
     ]
    }
   ],
   "source": [
    "src = cv2.imread('./fig/puppy.bmp')\n",
    "sunglass = cv2.imread('./fig/imgbin_sunglasses_1.png', cv2.IMREAD_UNCHANGED)\n",
    "sunglass = cv2.resize(sunglass, (300, 150))\n",
    "\n",
    "sunglass_img = sunglass[:, :, 0:3]\n",
    "sunglass_mask = sunglass[:, :, -1]\n",
    "\n",
    "h, w = sunglass_img.shape[:2]\n",
    "src_crop = src[120:120+h, 220:220+w]\n",
    "\n",
    "# cv2.copyTo(sunglass_img, sunglass_mask, src_crop)\n",
    "src_crop[sunglass_mask > 0] = (0, 0, 255)\n",
    "\n",
    "cv2.imshow('src', src)\n",
    "cv2.imshow('sunglass_img', sunglass_img)\n",
    "cv2.imshow('sunglass_mask', sunglass_mask)\n",
    "cv2.imshow('src_crop', src_crop)\n",
    "\n",
    "print('shape of sunglass = ', sunglass.shape)\n",
    "cv2.waitKey()\n",
    "cv2.destroyAllWindows()\n"
   ]
  },
  {
   "cell_type": "code",
   "execution_count": 81,
   "metadata": {},
   "outputs": [
    {
     "name": "stdout",
     "output_type": "stream",
     "text": [
      "hat size =  (400, 400, 4)\n",
      "400 400\n"
     ]
    }
   ],
   "source": [
    "src = cv2.imread('./fig/puppy.bmp')\n",
    "hat = cv2.imread('./fig/imgbin_hat.png', cv2.IMREAD_UNCHANGED)\n",
    "\n",
    "hat = cv2.resize(hat, (400, 500), interpolation=cv2.INTER_AREA)\n",
    "hat1 = hat[:400, :, :].copy()\n",
    "\n",
    "print('hat size = ', hat1.shape)\n",
    "\n",
    "# print('hat size = ', hat.shape)\n",
    "\n",
    "hat_img = hat1[:, :, :-1]\n",
    "hat_mask = hat1[:, :, -1]\n",
    "\n",
    "h, w = hat_img.shape[:2]\n",
    "print(h, w)\n",
    "src_crop = src[50:50+h, 120:120+w]\n",
    "\n",
    "cv2.copyTo(hat_img, hat_mask, src_crop)\n",
    "\n",
    "cv2.imshow('src', src)\n",
    "cv2.imshow('src_crop', src_crop)\n",
    "\n",
    "cv2.imshow('hat_img', hat_img)\n",
    "cv2.imshow('hat_mask', hat_mask)\n",
    "\n",
    "\n",
    "cv2.waitKey()\n",
    "cv2.destroyAllWindows()"
   ]
  },
  {
   "cell_type": "code",
   "execution_count": null,
   "metadata": {},
   "outputs": [],
   "source": []
  },
  {
   "cell_type": "code",
   "execution_count": null,
   "metadata": {},
   "outputs": [],
   "source": []
  }
 ],
 "metadata": {
  "kernelspec": {
   "display_name": "Python 3 (ipykernel)",
   "language": "python",
   "name": "python3"
  },
  "language_info": {
   "codemirror_mode": {
    "name": "ipython",
    "version": 3
   },
   "file_extension": ".py",
   "mimetype": "text/x-python",
   "name": "python",
   "nbconvert_exporter": "python",
   "pygments_lexer": "ipython3",
   "version": "3.8.16"
  }
 },
 "nbformat": 4,
 "nbformat_minor": 2
}
