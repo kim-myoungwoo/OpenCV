{
 "cells": [
  {
   "cell_type": "code",
   "execution_count": 1,
   "id": "d3a6e404",
   "metadata": {},
   "outputs": [],
   "source": [
    "import sys\n",
    "import os\n",
    "import glob\n",
    "import matplotlib.pyplot as plt\n",
    "\n",
    "import numpy as np\n",
    "import cv2"
   ]
  },
  {
   "cell_type": "code",
   "execution_count": 2,
   "id": "1a0b8cbd",
   "metadata": {},
   "outputs": [],
   "source": [
    "img = cv2.imread('./Ch_1_fig/fig/puppy.bmp')\n",
    "\n",
    "if img is None:\n",
    "    print('image read failed')\n",
    "    sys.exit()\n",
    "\n",
    "h, w = img.shape[:2]\n",
    "\n",
    "img[160:230, 270:350], img[160:230, 420:480] = 0,0\n",
    "cv2.imwrite('./Ch_1_fig/fig/my_images/PUPPY1.jpg',img)\n",
    "# p1 = img[h//2:h//2 + 3,w//2:w//2 + 3]\n",
    "# print('image center value = \\n',p1)\n",
    "\n",
    "cv2.imshow('image',img)\n",
    "cv2.waitKey()\n",
    "\n",
    "cv2.destroyAllWindows()"
   ]
  },
  {
   "cell_type": "code",
   "execution_count": 3,
   "id": "fa53fa54",
   "metadata": {},
   "outputs": [],
   "source": [
    "img1 = np.zeros((600, 1000,3), dtype=np.uint8)\n",
    "img2 = np.ones((600, 1000,3), dtype=np.uint8)*255\n",
    "img3 = np.full((600,1000,3),(0,255,255), dtype=np.uint8)\n",
    "img4 = np.random.randint(0,255,(600,1000,3), np.uint8)\n",
    "\n",
    "cv2.imshow('img1',img4)\n",
    "\n",
    "cv2.waitKey()\n",
    "\n",
    "cv2.destroyAllWindows()"
   ]
  },
  {
   "cell_type": "code",
   "execution_count": 4,
   "id": "5aa481ac",
   "metadata": {},
   "outputs": [],
   "source": [
    "## 영상복사\n",
    "\n",
    "img = cv2.imread('./Ch_1_fig/fig/cat.bmp')\n",
    "\n",
    "if img is None:\n",
    "    print('image read failed')\n",
    "    sys.exit()\n",
    "\n",
    "img1 = img.copy()\n",
    "img1[40:100,150:280] = (255,0,255)\n",
    "\n",
    "cv2.imshow('image', img)\n",
    "cv2.imshow('img1', img1)\n",
    "cv2.waitKey()\n",
    "cv2.destroyAllWindows()"
   ]
  },
  {
   "cell_type": "code",
   "execution_count": 5,
   "id": "23372787",
   "metadata": {},
   "outputs": [],
   "source": [
    "img = cv2.imread('./Ch_1_fig/fig/puppy.bmp')\n",
    "\n",
    "if img is None:\n",
    "    print('image read failed')\n",
    "    sys.exit()\n",
    "    \n",
    "img1 = img[200:400,300:500]\n",
    "# circle(img, center, radius, color[, thickness[, LineType[,shift]]]) -> img\n",
    "cv2.circle(img1,(100,100), 50, (0,0,255),-1,cv2.LINE_AA)\n",
    "\n",
    "cv2.imshow('img', img)\n",
    "cv2.imshow('img1', img1)\n",
    "\n",
    "cv2.waitKey()\n",
    "cv2.destroyAllWindows()"
   ]
  },
  {
   "cell_type": "code",
   "execution_count": 6,
   "id": "13b8bcdd",
   "metadata": {},
   "outputs": [],
   "source": [
    "img = cv2.imread('./Ch_1_fig/fig/fig/rudolf.png')\n",
    "\n",
    "if img is None:\n",
    "    print('image read failed')\n",
    "    sys.exit()\n",
    "\n",
    "img1 = img[400:580,407:620]\n",
    "cv2.circle(img1,(100,100), 65, (0,0,255),-1,cv2.LINE_AA)\n",
    "cv2.imwrite('./Ch_1_fig/fig/my_images/Rudolf.jpg',img)\n",
    "\n",
    "cv2.imshow('img',img)\n",
    "cv2.imshow('image',img1)\n",
    "\n",
    "cv2.waitKey()\n",
    "cv2.destroyAllWindows()"
   ]
  },
  {
   "cell_type": "code",
   "execution_count": 7,
   "id": "511364ba",
   "metadata": {},
   "outputs": [
    {
     "name": "stdout",
     "output_type": "stream",
     "text": [
      "(400, 600, 3)\n",
      "(400, 600)\n",
      "(400, 600, 3)\n"
     ]
    }
   ],
   "source": [
    "src = cv2.imread('./Ch_1_fig/fig/fig/airplane.bmp')\n",
    "mask = cv2.imread('./Ch_1_fig/fig/fig/mask_plane.bmp',0)\n",
    "dst = cv2.imread('./Ch_1_fig/fig/fig/field.bmp')\n",
    "\n",
    "print(src.shape)\n",
    "print(mask.shape)\n",
    "print(dst.shape)\n",
    "\n",
    "# cv2.copyTo(src,mask, dst = None) -> det\n",
    "# cv2.copyTo(src,mask,dst)\n",
    "\n",
    "\n",
    "\n",
    "if src is None or mask is None or dst is None:\n",
    "    print('images read failed')\n",
    "    sys.exit()\n",
    "    \n",
    "cv2.imshow('src',src)\n",
    "cv2.imshow('mask',mask)\n",
    "cv2.imshow('dst',dst)\n",
    "\n",
    "cv2.waitKey()\n",
    "cv2.destroyAllWindows()"
   ]
  },
  {
   "cell_type": "code",
   "execution_count": 29,
   "id": "31c0eb6c",
   "metadata": {},
   "outputs": [],
   "source": [
    "src = cv2.imread('./Ch_1_fig/fig/fig/cow.png')\n",
    "dst = cv2.imread('./Ch_1_fig/fig/fig/green.png')\n",
    "h, w = src.shape[:2]\n",
    "src_gray = cv2.cvtColor(src, cv2.COLOR_BGR2GRAY)\n",
    "_, mask = cv2.threshold(src_gray, 242, 255, cv2.THRESH_BINARY_INV)\n",
    "dst_resize = cv2.resize(dst, (w, h))\n",
    "cv2.copyTo(src,mask,dst_resize)\n",
    "cv2.imwrite('./Ch_1_fig/fig/my_images/Cow_Green.jpg',dst_resize)\n",
    "\n",
    "if src is None or dst is None:\n",
    "    print('images read failed')\n",
    "    sys.exit()\n",
    "    \n",
    "cv2.imshow('src',src)\n",
    "cv2.imshow('dst_resize',dst_resize)\n",
    "cv2.imshow('mask',mask)\n",
    "\n",
    "cv2.waitKey()\n",
    "cv2.destroyAllWindows()"
   ]
  }
 ],
 "metadata": {
  "kernelspec": {
   "display_name": "py3.8",
   "language": "python",
   "name": "py3.8"
  },
  "language_info": {
   "codemirror_mode": {
    "name": "ipython",
    "version": 3
   },
   "file_extension": ".py",
   "mimetype": "text/x-python",
   "name": "python",
   "nbconvert_exporter": "python",
   "pygments_lexer": "ipython3",
   "version": "3.8.16"
  }
 },
 "nbformat": 4,
 "nbformat_minor": 5
}
