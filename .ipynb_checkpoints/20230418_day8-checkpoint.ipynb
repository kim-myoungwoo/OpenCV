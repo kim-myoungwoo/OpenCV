{
 "cells": [
  {
   "cell_type": "code",
   "execution_count": 3,
   "id": "643914c9",
   "metadata": {},
   "outputs": [],
   "source": [
    "import numpy as np\n",
    "import cv2\n",
    "import sys\n",
    "import tensorflow as tf\n",
    "from tensorflow import keras\n",
    "import matplotlib.pyplot as plt\n",
    "from IPython.display import Image"
   ]
  },
  {
   "cell_type": "code",
   "execution_count": 13,
   "id": "9252a06d",
   "metadata": {
    "scrolled": true
   },
   "outputs": [
    {
     "name": "stdout",
     "output_type": "stream",
     "text": [
      "Collecting graphviz\n",
      "  Downloading graphviz-0.20.1-py3-none-any.whl (47 kB)\n",
      "     ---------------------------------------- 0.0/47.0 kB ? eta -:--:--\n",
      "     ---------------------------------------- 47.0/47.0 kB ? eta 0:00:00\n",
      "Installing collected packages: graphviz\n",
      "Successfully installed graphviz-0.20.1\n"
     ]
    }
   ],
   "source": [
    "# !pip install IPython\n",
    "# !pip install pydot\n",
    "# !pip install graphviz"
   ]
  },
  {
   "cell_type": "code",
   "execution_count": 6,
   "id": "9d59e2d8",
   "metadata": {},
   "outputs": [],
   "source": [
    "vgg16_pretrained = keras.applications.vgg16.VGG16(weights = 'imagenet',\n",
    "                                                 include_top = True,\n",
    "                                                 input_shape = (224,224,3))"
   ]
  },
  {
   "cell_type": "code",
   "execution_count": 17,
   "id": "47cf64a7",
   "metadata": {},
   "outputs": [
    {
     "name": "stdout",
     "output_type": "stream",
     "text": [
      "You must install pydot (`pip install pydot`) and install graphviz (see instructions at https://graphviz.gitlab.io/download/) for plot_model to work.\n"
     ]
    }
   ],
   "source": [
    "keras.utils.plot_model(vgg16_pretrained)"
   ]
  },
  {
   "cell_type": "code",
   "execution_count": 7,
   "id": "6f16032b",
   "metadata": {},
   "outputs": [
    {
     "name": "stdout",
     "output_type": "stream",
     "text": [
      "Model: \"vgg16\"\n",
      "_________________________________________________________________\n",
      " Layer (type)                Output Shape              Param #   \n",
      "=================================================================\n",
      " input_2 (InputLayer)        [(None, 224, 224, 3)]     0         \n",
      "                                                                 \n",
      " block1_conv1 (Conv2D)       (None, 224, 224, 64)      1792      \n",
      "                                                                 \n",
      " block1_conv2 (Conv2D)       (None, 224, 224, 64)      36928     \n",
      "                                                                 \n",
      " block1_pool (MaxPooling2D)  (None, 112, 112, 64)      0         \n",
      "                                                                 \n",
      " block2_conv1 (Conv2D)       (None, 112, 112, 128)     73856     \n",
      "                                                                 \n",
      " block2_conv2 (Conv2D)       (None, 112, 112, 128)     147584    \n",
      "                                                                 \n",
      " block2_pool (MaxPooling2D)  (None, 56, 56, 128)       0         \n",
      "                                                                 \n",
      " block3_conv1 (Conv2D)       (None, 56, 56, 256)       295168    \n",
      "                                                                 \n",
      " block3_conv2 (Conv2D)       (None, 56, 56, 256)       590080    \n",
      "                                                                 \n",
      " block3_conv3 (Conv2D)       (None, 56, 56, 256)       590080    \n",
      "                                                                 \n",
      " block3_pool (MaxPooling2D)  (None, 28, 28, 256)       0         \n",
      "                                                                 \n",
      " block4_conv1 (Conv2D)       (None, 28, 28, 512)       1180160   \n",
      "                                                                 \n",
      " block4_conv2 (Conv2D)       (None, 28, 28, 512)       2359808   \n",
      "                                                                 \n",
      " block4_conv3 (Conv2D)       (None, 28, 28, 512)       2359808   \n",
      "                                                                 \n",
      " block4_pool (MaxPooling2D)  (None, 14, 14, 512)       0         \n",
      "                                                                 \n",
      " block5_conv1 (Conv2D)       (None, 14, 14, 512)       2359808   \n",
      "                                                                 \n",
      " block5_conv2 (Conv2D)       (None, 14, 14, 512)       2359808   \n",
      "                                                                 \n",
      " block5_conv3 (Conv2D)       (None, 14, 14, 512)       2359808   \n",
      "                                                                 \n",
      " block5_pool (MaxPooling2D)  (None, 7, 7, 512)         0         \n",
      "                                                                 \n",
      " flatten (Flatten)           (None, 25088)             0         \n",
      "                                                                 \n",
      " fc1 (Dense)                 (None, 4096)              102764544 \n",
      "                                                                 \n",
      " fc2 (Dense)                 (None, 4096)              16781312  \n",
      "                                                                 \n",
      " predictions (Dense)         (None, 1000)              4097000   \n",
      "                                                                 \n",
      "=================================================================\n",
      "Total params: 138,357,544\n",
      "Trainable params: 138,357,544\n",
      "Non-trainable params: 0\n",
      "_________________________________________________________________\n",
      "None\n"
     ]
    }
   ],
   "source": [
    "print(vgg16_pretrained.summary())"
   ]
  },
  {
   "cell_type": "code",
   "execution_count": null,
   "id": "77a24b56",
   "metadata": {},
   "outputs": [],
   "source": [
    "# img_path = './Ch_1_fig/fig/img/car1.jpg'\n",
    "# img_path = './Ch_1_fig/fig/img/airplane_1'\n",
    "# img_path = './Ch_1_fig/fig/img/beagle.jpg'\n",
    "# img_path = './Ch_1_fig/fig/my_images/KakaoTalk_20230406_151400751.jpg'\n",
    "img_path = './'\n",
    "img = keras.preprocessing.image.load_img(img_path, target_size=(224,224))\n",
    "x = keras.preprocessing.image.img_to_array(img)\n",
    "x = np.expand_dims(x, axis=0)\n",
    "x = keras.applications.vgg16.preprocess_input(x)\n",
    "\n",
    "# print(img)\n",
    "# print(type(x))\n",
    "# print(x.dtype)\n",
    "print(x.shape)\n",
    "\n",
    "plt.imshow(img)\n",
    "plt.show()\n",
    "\n",
    "plt.imshow(x[0])\n",
    "plt.show()"
   ]
  },
  {
   "cell_type": "code",
   "execution_count": 49,
   "id": "e0265a4b",
   "metadata": {},
   "outputs": [
    {
     "name": "stdout",
     "output_type": "stream",
     "text": [
      "1/1 [==============================] - 0s 186ms/step\n",
      "[[('n07695742', 'pretzel', 0.101701654), ('n02730930', 'apron', 0.08676364), ('n02776631', 'bakery', 0.04508428)]]\n"
     ]
    },
    {
     "data": {
      "text/plain": [
       "('n07695742', 'pretzel', 0.101701654)"
      ]
     },
     "execution_count": 49,
     "metadata": {},
     "output_type": "execute_result"
    }
   ],
   "source": [
    "output = vgg16_pretrained.predict(x)\n",
    "\n",
    "classNames = keras.applications.vgg16.decode_predictions(output, top=3)\n",
    "# print(np.argmax(output[0].flatten()))\n",
    "print(classNames)\n",
    "classNames[0][0]"
   ]
  },
  {
   "cell_type": "code",
   "execution_count": 50,
   "id": "bb348805",
   "metadata": {},
   "outputs": [
    {
     "name": "stdout",
     "output_type": "stream",
     "text": [
      "pretzel 0.101701654\n"
     ]
    }
   ],
   "source": [
    "className = classNames[0][0][1]\n",
    "prob = classNames[0][0][2]\n",
    "\n",
    "print(className, prob)"
   ]
  },
  {
   "cell_type": "code",
   "execution_count": null,
   "id": "c68e55d0",
   "metadata": {},
   "outputs": [],
   "source": [
    "img_opencv = cv2.imread(img_path)\n",
    "\n",
    "text = f'{className},{prob*100:.2f}%'\n",
    "cv2.putText(img_opencv, text, (10,30), cv2.FONT_HERSHEY_COMPLEX, 0.8, (0,0,255), 1, cv2.LINE_AA)\n",
    "\n",
    "cv2.imshow('image',img_opencv)\n",
    "cv2.waitKey()\n",
    "cv2.destroyAllWindows()"
   ]
  }
 ],
 "metadata": {
  "kernelspec": {
   "display_name": "py3.8",
   "language": "python",
   "name": "py3.8"
  },
  "language_info": {
   "codemirror_mode": {
    "name": "ipython",
    "version": 3
   },
   "file_extension": ".py",
   "mimetype": "text/x-python",
   "name": "python",
   "nbconvert_exporter": "python",
   "pygments_lexer": "ipython3",
   "version": "3.8.16"
  }
 },
 "nbformat": 4,
 "nbformat_minor": 5
}
