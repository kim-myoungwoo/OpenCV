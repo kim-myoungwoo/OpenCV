{
 "cells": [
  {
   "cell_type": "code",
   "execution_count": 1,
   "id": "b2c48b29",
   "metadata": {},
   "outputs": [],
   "source": [
    "import numpy as np\n",
    "import cv2\n",
    "import sys\n",
    "import tensorflow as tf\n",
    "from tensorflow import keras\n",
    "import matplotlib.pyplot as plt\n",
    "from IPython.display import Image"
   ]
  },
  {
   "cell_type": "code",
   "execution_count": 3,
   "id": "321bc742",
   "metadata": {},
   "outputs": [
    {
     "name": "stdout",
     "output_type": "stream",
     "text": [
      "Model: \"model\"\n",
      "_________________________________________________________________\n",
      " Layer (type)                Output Shape              Param #   \n",
      "=================================================================\n",
      " input_2 (InputLayer)        [(None, 150, 150, 3)]     0         \n",
      "                                                                 \n",
      " conv2d (Conv2D)             (None, 148, 148, 64)      1792      \n",
      "                                                                 \n",
      " conv2d_1 (Conv2D)           (None, 146, 146, 32)      18464     \n",
      "                                                                 \n",
      " max_pooling2d (MaxPooling2D  (None, 73, 73, 32)       0         \n",
      " )                                                               \n",
      "                                                                 \n",
      " flatten (Flatten)           (None, 170528)            0         \n",
      "                                                                 \n",
      " dense (Dense)               (None, 120)               20463480  \n",
      "                                                                 \n",
      " dropout (Dropout)           (None, 120)               0         \n",
      "                                                                 \n",
      " dense_1 (Dense)             (None, 32)                3872      \n",
      "                                                                 \n",
      " dense_2 (Dense)             (None, 1)                 33        \n",
      "                                                                 \n",
      "=================================================================\n",
      "Total params: 20,487,641\n",
      "Trainable params: 20,487,641\n",
      "Non-trainable params: 0\n",
      "_________________________________________________________________\n"
     ]
    }
   ],
   "source": [
    "## Functional API\n",
    "inputs = keras.Input(shape = (150, 150, 3))\n",
    "Conv1 = keras.layers.Conv2D(64, kernel_size = 3, activation = 'relu')(inputs)\n",
    "Conv2 = keras.layers.Conv2D(32, kernel_size = 3, activation = 'relu')(Conv1)\n",
    "max_pool = keras.layers.MaxPool2D(pool_size = 2)(Conv2)\n",
    "flatten = keras.layers.Flatten()(max_pool)\n",
    "dense1 = keras.layers.Dense(120, activation = 'relu')(flatten)\n",
    "drop_out = keras.layers.Dropout(0.3)(dense1)\n",
    "dense2 = keras.layers.Dense(32, activation = 'relu')(drop_out)\n",
    "outputs = keras.layers.Dense(1, activation = 'sigmoid')(dense2)\n",
    "\n",
    "alz_model = keras.Model(inputs = inputs, outputs = outputs)\n",
    "alz_model.summary()"
   ]
  },
  {
   "cell_type": "code",
   "execution_count": 4,
   "id": "917a1d1c",
   "metadata": {},
   "outputs": [],
   "source": [
    "import glob"
   ]
  },
  {
   "cell_type": "code",
   "execution_count": 17,
   "id": "d57a3c67",
   "metadata": {},
   "outputs": [
    {
     "name": "stdout",
     "output_type": "stream",
     "text": [
      "(280, 150, 150, 3)\n"
     ]
    }
   ],
   "source": [
    "img_path_ad = glob.glob('./Ch_1_fig/fig/data/train/train/ad/*.*') + glob.glob('./Ch_1_fig/fig/data/test/test/ad/*.*')\n",
    "img_path_normal = glob.glob('./Ch_1_fig/fig/data/train/train/normal/*.*') + glob.glob('./Ch_1_fig/fig/data/test/test/normal/*.*')\n",
    "img_paths = img_path_ad + img_path_normal\n",
    "\n",
    "target = np.array([1]*len(img_path_ad) + [0]*len(img_path_normal))\n",
    "# display(len(img_path_ad))\n",
    "# display(len(img_paths))\n",
    "# print(target)\n",
    "# print(len(target))\n",
    "# display(img_paths)\n",
    "\n",
    "imgs = np.zeros((0,150,150,3), np.float32)\n",
    "\n",
    "for img_path in img_paths:\n",
    "    img = cv2.imread(img_path)\n",
    "    img = (img.astype(np.float32))/255.\n",
    "    img = np.expand_dims(img, axis=0)\n",
    "    imgs = np.append(imgs, img, axis=0)\n",
    "    \n",
    "print(imgs.shape)"
   ]
  },
  {
   "cell_type": "code",
   "execution_count": 18,
   "id": "6ba3743f",
   "metadata": {},
   "outputs": [
    {
     "name": "stdout",
     "output_type": "stream",
     "text": [
      "(224, 150, 150, 3)\n",
      "(224,)\n"
     ]
    }
   ],
   "source": [
    "from sklearn.model_selection import train_test_split\n",
    "\n",
    "x_train, x_val, y_train, y_val = train_test_split( imgs, target, test_size=0.2, shuffle=True)\n",
    "\n",
    "print(x_train.shape)\n",
    "print(y_train.shape)"
   ]
  },
  {
   "cell_type": "code",
   "execution_count": 22,
   "id": "ba1389d6",
   "metadata": {},
   "outputs": [],
   "source": [
    "alz_model.compile(loss='binary_crossentropy',\n",
    "                 optimizer = 'adam',\n",
    "                 metrics = ['acc'])\n",
    "\n",
    "checkpoint = keras.callbacks.ModelCheckpoint(filepath = './alz_model.h5',\n",
    "                                            save_best_only = True)\n",
    "early_stop = keras.callbacks.EarlyStopping(patience=7)"
   ]
  },
  {
   "cell_type": "code",
   "execution_count": 25,
   "id": "0e53a193",
   "metadata": {},
   "outputs": [
    {
     "name": "stdout",
     "output_type": "stream",
     "text": [
      "Epoch 1/100\n",
      "45/45 [==============================] - 17s 385ms/step - loss: 11542.6396 - acc: 0.4866 - val_loss: 21.1791 - val_acc: 0.8750\n",
      "Epoch 2/100\n",
      "45/45 [==============================] - 17s 372ms/step - loss: 8952.6240 - acc: 0.5045 - val_loss: 2247.8118 - val_acc: 0.6429\n",
      "Epoch 3/100\n",
      "45/45 [==============================] - 17s 377ms/step - loss: 6787.8569 - acc: 0.4955 - val_loss: 706.6304 - val_acc: 0.6429\n",
      "Epoch 4/100\n",
      "45/45 [==============================] - 16s 353ms/step - loss: 6206.1597 - acc: 0.5000 - val_loss: 1215.0018 - val_acc: 0.6429\n",
      "Epoch 5/100\n",
      "45/45 [==============================] - 16s 354ms/step - loss: 3993.4348 - acc: 0.5179 - val_loss: 1658.0736 - val_acc: 0.3571\n",
      "Epoch 6/100\n",
      "45/45 [==============================] - 16s 361ms/step - loss: 4488.9741 - acc: 0.4062 - val_loss: 5202.5171 - val_acc: 0.3571\n",
      "Epoch 7/100\n",
      "45/45 [==============================] - 16s 356ms/step - loss: 2783.4805 - acc: 0.6027 - val_loss: 2712.4575 - val_acc: 0.3571\n",
      "Epoch 8/100\n",
      "45/45 [==============================] - 16s 353ms/step - loss: 2337.9790 - acc: 0.5714 - val_loss: 3891.8521 - val_acc: 0.3571\n"
     ]
    }
   ],
   "source": [
    "history = alz_model.fit(x_train, y_train, epochs=100,\n",
    "                        batch_size=5,\n",
    "                       validation_data = (x_val, y_val),\n",
    "                       callbacks = [checkpoint, early_stop])"
   ]
  }
 ],
 "metadata": {
  "kernelspec": {
   "display_name": "py3.8",
   "language": "python",
   "name": "py3.8"
  },
  "language_info": {
   "codemirror_mode": {
    "name": "ipython",
    "version": 3
   },
   "file_extension": ".py",
   "mimetype": "text/x-python",
   "name": "python",
   "nbconvert_exporter": "python",
   "pygments_lexer": "ipython3",
   "version": "3.8.16"
  }
 },
 "nbformat": 4,
 "nbformat_minor": 5
}
