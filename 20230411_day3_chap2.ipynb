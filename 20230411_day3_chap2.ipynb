{
 "cells": [
  {
   "cell_type": "code",
   "execution_count": 1,
   "id": "a3dc4d04",
   "metadata": {},
   "outputs": [],
   "source": [
    "import numpy as np\n",
    "import sys\n",
    "import cv2\n",
    "import matplotlib.pyplot as plt"
   ]
  },
  {
   "cell_type": "code",
   "execution_count": 2,
   "id": "da53df2e",
   "metadata": {},
   "outputs": [],
   "source": [
    "src = cv2.imread('./Ch_1_fig/fig/fig/airplane.bmp')\n",
    "mask = cv2. imread('./Ch_1_fig/fig/fig/mask_plane.bmp', cv2.IMREAD_GRAYSCALE)\n",
    "dst = cv2.imread('./Ch_1_fig/fig/fig/field.bmp')\n",
    "\n",
    "if src is None or mask is None or dst is None:\n",
    "    print('images read failed')\n",
    "    sys.exit()\n",
    "\n",
    "cv2.copyTo(src, mask, dst)\n",
    "\n",
    "cv2.imshow('src', src)\n",
    "cv2.imshow('mask', mask)\n",
    "cv2.imshow('dst', dst)\n",
    "\n",
    "cv2.waitKey()\n",
    "cv2.destroyAllWindows()"
   ]
  },
  {
   "cell_type": "code",
   "execution_count": 3,
   "id": "d73e3f20",
   "metadata": {},
   "outputs": [],
   "source": [
    "src = cv2.imread('./Ch_1_fig/fig/fig/cow.png')\n",
    "dst = cv2.imread('./Ch_1_fig/fig/fig/green.png')\n",
    "\n",
    "src_gray = cv2.cvtColor(src, cv2.COLOR_BGR2GRAY)\n",
    "retval, mask = cv2.threshold(src_gray, 240, 255, cv2.THRESH_BINARY_INV)\n",
    "\n",
    "h, w = src.shape[:2]\n",
    "dst_re = cv2.resize(dst, (w,h), interpolation=cv2.INTER_AREA)\n",
    "\n",
    "cv2.copyTo(src, mask, dst_re)\n",
    "\n",
    "if src is None or dst is None:\n",
    "    print('images read failed')\n",
    "    sys.exit()\n",
    "    \n",
    "\n",
    "    \n",
    "cv2.imshow('src', src)\n",
    "cv2.imshow('src_gray',src_gray)\n",
    "cv2.imshow('dst_re', dst_re)\n",
    "cv2.imshow('mask',mask)\n",
    "\n",
    "cv2.waitKey()\n",
    "cv2.destroyAllWindows()"
   ]
  },
  {
   "cell_type": "code",
   "execution_count": 4,
   "id": "b91e8e96",
   "metadata": {},
   "outputs": [],
   "source": [
    "img1 = np.zeros((600, 1000, 3), np.uint8)\n",
    "img2 = np.ones((600, 1000, 3), np.uint8)*255\n",
    "img3 = np.full((600, 1000, 3), (134, 27, 65), np.uint8)\n",
    "\n",
    "cv2.imshow('img1',img1)\n",
    "cv2.imshow('img2',img2)\n",
    "cv2.imshow('img3',img3)\n",
    "\n",
    "cv2.waitKey()\n",
    "cv2.destroyAllWindows()"
   ]
  },
  {
   "cell_type": "code",
   "execution_count": 5,
   "id": "3a36b712",
   "metadata": {},
   "outputs": [],
   "source": [
    "img = cv2.imread('./Ch_1_fig/fig/puppy.bmp', cv2.IMREAD_COLOR)\n",
    "\n",
    "if img is None:\n",
    "    print('img read failed')\n",
    "    sys.exit()\n",
    "    \n",
    "    \n",
    "cv2.namedWindow('image', cv2.WINDOW_AUTOSIZE)\n",
    "cv2.imshow('image', img)\n",
    "\n",
    "while True:\n",
    "    key = cv2.waitKey()\n",
    "    if key == 27 or ord('q'):\n",
    "        break\n",
    "        \n",
    "cv2.destroyAllWindows()"
   ]
  },
  {
   "cell_type": "code",
   "execution_count": 6,
   "id": "ca885778",
   "metadata": {},
   "outputs": [],
   "source": [
    "src = cv2.imread('./Ch_1_fig/fig/fig/cow.png')\n",
    "dst = cv2.imread('./Ch_1_fig/fig/fig/green.png')\n",
    "\n",
    "src_gray = cv2.cvtColor(src, cv2.COLOR_BGR2GRAY)\n",
    "retval, mask = cv2.threshold(src_gray, 240, 255, cv2.THRESH_BINARY_INV)\n",
    "\n",
    "h, w = src.shape[:2]\n",
    "\n",
    "dst_crop = dst[400:400+h,200:200+w]\n",
    "cv2.copyTo(src, mask, dst_crop)\n",
    "\n",
    "if src is None or dst is None:\n",
    "    print('images read failed')\n",
    "    sys.exit()\n",
    "    \n",
    "cv2.imshow('src', src)\n",
    "cv2.imshow('dst_crop', dst)\n",
    "\n",
    "cv2.waitKey()\n",
    "cv2.destroyAllWindows()"
   ]
  },
  {
   "cell_type": "code",
   "execution_count": 7,
   "id": "13376d77",
   "metadata": {},
   "outputs": [
    {
     "name": "stdout",
     "output_type": "stream",
     "text": [
      "shape of sunglass =  (150, 300, 3)\n"
     ]
    }
   ],
   "source": [
    "src = cv2.imread('./Ch_1_fig/fig/fig/puppy.bmp')\n",
    "sunglass = cv2.imread('./Ch_1_fig/fig/fig/imgbin_sunglasses_1.png', cv2.IMREAD_UNCHANGED)\n",
    "sunglass = cv2.resize(sunglass, (300,150))\n",
    "\n",
    "sunglass_img = sunglass[:,:,0:-1]\n",
    "sunglass_mask = sunglass[:,:,-1]\n",
    "\n",
    "h, w = sunglass_img.shape[:2]\n",
    "src_crop = src[120:120+h, 220:220+w]\n",
    "\n",
    "# cv2.copyTo(sunglass_img, sunglass_mask, src_crop)\n",
    "src_crop[sunglass_mask > 0] = (0,0, 255)\n",
    "\n",
    "cv2.imshow('src',src)\n",
    "cv2.imshow('sunglass_img', sunglass_img)\n",
    "cv2.imshow('sunglass_mask', sunglass_mask)\n",
    "cv2.imshow('src_crop',src_crop)\n",
    "\n",
    "print('shape of sunglass = ', sunglass_img.shape)\n",
    "cv2.waitKey()\n",
    "cv2.destroyAllWindows()"
   ]
  },
  {
   "cell_type": "code",
   "execution_count": 8,
   "id": "9e120d24",
   "metadata": {},
   "outputs": [],
   "source": [
    "src = cv2.imread('./lifestyle-business-people-holding-laptop-computer-office-desk.jpg')\n",
    "dst = cv2.imread('./pexels-julia-kuzenkov-1974521.jpg')\n",
    "# print(src.shape)\n",
    "# print(dst.shape)\n",
    "\n",
    "cv2.imshow('src',src)\n",
    "cv2.imshow('dst',dst)\n",
    "\n",
    "cv2.waitKey()\n",
    "cv2.destroyAllWindows()"
   ]
  },
  {
   "cell_type": "code",
   "execution_count": 47,
   "id": "d9a8d270",
   "metadata": {},
   "outputs": [
    {
     "name": "stdout",
     "output_type": "stream",
     "text": [
      "(1440, 1080, 3)\n",
      "(3507, 2480, 4)\n"
     ]
    }
   ],
   "source": [
    "src = cv2.imread('./my_photo.jpg')\n",
    "hat = cv2.imread('./Ch_1_fig/fig/fig/imgbin_hat.png', cv2.IMREAD_UNCHANGED)\n",
    "hat = cv2.resize(hat,(2480,3507))\n",
    "hat_img = hat[:,:,0:-1]\n",
    "hat_mask = hat[:,:,-1]\n",
    "src_re = cv2.resize(src, (src.shape[1]//2,src.shape[0]//2))\n",
    "hat_re = cv2.resize(hat_img, (hat_img.shape[1]//8,hat_img.shape[0]//8))\n",
    "hat_re_mask = cv2.resize(hat_mask, (hat_img.shape[1]//8,hat_img.shape[0]//8))\n",
    "h,w = hat_re.shape[:2]\n",
    "src_re_crop = src_re[47:47+h, 133:133+w]\n",
    "\n",
    "cv2.copyTo(hat_re, hat_re_mask, src_re_crop)\n",
    "print(src.shape)\n",
    "print(hat.shape)\n",
    "\n",
    "cv2.imshow('hat',hat_re)\n",
    "cv2.imshow('src_re_crop',src_re_crop)\n",
    "cv2.imshow('src_re',src_re)\n",
    "\n",
    "cv2.imwrite('./Ch_1_fig/fig/my_images/my_img.jpg',src_re)\n",
    "\n",
    "cv2.waitKey()\n",
    "cv2.destroyAllWindows()"
   ]
  }
 ],
 "metadata": {
  "kernelspec": {
   "display_name": "py3.8",
   "language": "python",
   "name": "py3.8"
  },
  "language_info": {
   "codemirror_mode": {
    "name": "ipython",
    "version": 3
   },
   "file_extension": ".py",
   "mimetype": "text/x-python",
   "name": "python",
   "nbconvert_exporter": "python",
   "pygments_lexer": "ipython3",
   "version": "3.8.16"
  }
 },
 "nbformat": 4,
 "nbformat_minor": 5
}
